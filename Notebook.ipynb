{
 "cells": [
  {
   "cell_type": "markdown",
   "metadata": {},
   "source": [
    "## DATA CRUNCH APP- RECIPE RECOMMENDATION SYSTEM\n"
   ]
  },
  {
   "cell_type": "markdown",
   "metadata": {},
   "source": [
    "# Overview\n",
    "Tech to Tech hub has an aim of creating a recommendation system for a food company called Flavor fields. Flavor fields has a recipes platform they are trying to develop that can give  users personalized recipes based on the ingredients availables.\n",
    "\n",
    "We aim to create an app called Data Crunch that Flavor fields' users may use to get personalized recipes based on the ingredients available to them. By focusing on a more general dataset, the system will offer a variety of recipes that cater to diverse ingredient lists, dietary preferences, and meal categories."
   ]
  },
  {
   "cell_type": "markdown",
   "metadata": {},
   "source": [
    "## Problem statement\n",
    "More often than not, people tend to have several ingredients in their homes but often find themselves with the big question \"what should i cook today\". \n",
    "Most tend to cook complex, timeconsuming meals that require maximum energy and even end up having to go buy more ingredients to fill up certain recipes they have researched which makes them use much more energy when they simply could have used the ingredients that were available.\n",
    "This justifies the fact that users  often struggle with meal planning and recipe discovery due to the overwhelming number of options and lack of personalized suggestions. A generalized recipe recommender system will address these challenges by offering tailored recipe suggestions based on the ingredients user's input, thus improving meal planning and reducing food waste."
   ]
  },
  {
   "cell_type": "markdown",
   "metadata": {},
   "source": [
    "### Objectives\n",
    "The main objective is to develop an interactive and user-friendly recommender system that provides personalized recipe suggestions based on user-input ingredients.\n",
    "\n",
    "Specific Objectives.\n",
    "\n",
    "•\tDynamic Recipe Matching: Develop an algorithm that matches user-input ingredients with a comprehensive recipe database, offering tailored recipe suggestions.\n",
    "\n",
    "•   User Interface and Experience Design: Develop an intuitive and user-friendly interface for users to easily browse recipes, read reviews, and receive\n",
    "\n",
    "\n",
    "\n",
    "\n",
    "\n"
   ]
  },
  {
   "cell_type": "markdown",
   "metadata": {
    "vscode": {
     "languageId": "plaintext"
    }
   },
   "source": [
    "### Data understanding\n",
    "In this project we have two Datasets one obtained from Kaggle and another with reviews obtained from https://archive.ics.uci.edu/dataset/911/recipe+reviews+and+user+feedback+dataset.\n",
    "\n",
    "\n",
    "The recipe review and user feedback data set contains the following columns:\n",
    "\n",
    "1. recipe number: {placement of the recipe on the top 100 recipes list}\n",
    "\n",
    "2. recipe name: {name of the recipe the comment was posted on}\n",
    "\n",
    "3. recipe code: {unique id of the recipe used by the site}\n",
    "\n",
    "4. comment id: {unique id of the comment}\n",
    "\n",
    "5. user id: {unique id of the user who left the comment}\n",
    "\n",
    "6. user name: {name of the user}\n",
    "\n",
    "7. user reputation: {internal score of the site, roughly quantifying the past behavior of the user}\n",
    "\n",
    "8. create at: {time at which the comment was posted as a Unix timestamp}\n",
    "\n",
    "9. reply count: {number of replies to the comment}\n",
    "\n",
    "10. thumbs up: {number of up-votes the comment has received}\n",
    "\n",
    "11. thumbs down: {the number of down votes the comment received}\n",
    "\n",
    "12. stars: {the score on a 1 to 5 scale that the user gave to the recipe. A score of 0 means that no score was given}\n",
    "\n",
    "13. best score: {score of the comment, likely used by the site to help determine the order in the comments that appear in}\n",
    "\n",
    "14. text: {the text content of the comment}\n",
    "\n",
    "Apart from the reviews dataset we have the ingredients dataset which contains:\n",
    "\n",
    "1. A recipe name\n",
    "\n",
    "2. ingredients\n",
    "\n",
    "3. Cooking  instructions\n",
    "\n",
    "It should be noted that despite having recipes in the dataset with ingredients, one may have a few ingredients that could cook more than two meals in the dataset hence this recommender system may come in handy."
   ]
  },
  {
   "cell_type": "markdown",
   "metadata": {
    "vscode": {
     "languageId": "plaintext"
    }
   },
   "source": [
    "# 1. Data cleaning"
   ]
  },
  {
   "cell_type": "code",
   "execution_count": 5,
   "metadata": {},
   "outputs": [
    {
     "name": "stderr",
     "output_type": "stream",
     "text": [
      "[nltk_data] Downloading package punkt to\n",
      "[nltk_data]     /Users/myraminayokadenge/nltk_data...\n",
      "[nltk_data]   Package punkt is already up-to-date!\n",
      "[nltk_data] Downloading package stopwords to\n",
      "[nltk_data]     /Users/myraminayokadenge/nltk_data...\n",
      "[nltk_data]   Package stopwords is already up-to-date!\n"
     ]
    }
   ],
   "source": [
    "#Data cleaning\n",
    "import pandas as pd\n",
    "import numpy as np\n",
    "\n",
    "\n",
    "#Tokenization\n",
    "import re\n",
    "import nltk\n",
    "from nltk.corpus import stopwords\n",
    "from nltk.stem import PorterStemmer\n",
    "from nltk.tokenize import word_tokenize\n",
    "nltk.download('punkt')\n",
    "nltk.download('stopwords')\n",
    "\n",
    "#EDA\n",
    "from collections import Counter\n",
    "import matplotlib.pyplot as plt\n",
    "import seaborn as sns\n",
    "\n",
    "\n"
   ]
  },
  {
   "cell_type": "code",
   "execution_count": 6,
   "metadata": {},
   "outputs": [],
   "source": [
    "#We load all three datasets\n",
    "reviews_df = pd.read_csv(\"Datasets/Recipe Reviews and User Feedback Dataset 2.csv\", index_col=0)\n",
    "recipes_df = pd.read_csv(\"Datasets/Recipe Ingredients and Cooking Instructions Dataset.csv\")\n",
    "\n"
   ]
  },
  {
   "cell_type": "code",
   "execution_count": 7,
   "metadata": {},
   "outputs": [
    {
     "data": {
      "text/html": [
       "<div>\n",
       "<style scoped>\n",
       "    .dataframe tbody tr th:only-of-type {\n",
       "        vertical-align: middle;\n",
       "    }\n",
       "\n",
       "    .dataframe tbody tr th {\n",
       "        vertical-align: top;\n",
       "    }\n",
       "\n",
       "    .dataframe thead th {\n",
       "        text-align: right;\n",
       "    }\n",
       "</style>\n",
       "<table border=\"1\" class=\"dataframe\">\n",
       "  <thead>\n",
       "    <tr style=\"text-align: right;\">\n",
       "      <th></th>\n",
       "      <th>recipe_number</th>\n",
       "      <th>recipe_code</th>\n",
       "      <th>recipe_name</th>\n",
       "      <th>comment_id</th>\n",
       "      <th>user_id</th>\n",
       "      <th>user_name</th>\n",
       "      <th>user_reputation</th>\n",
       "      <th>created_at</th>\n",
       "      <th>reply_count</th>\n",
       "      <th>thumbs_up</th>\n",
       "      <th>thumbs_down</th>\n",
       "      <th>stars</th>\n",
       "      <th>best_score</th>\n",
       "      <th>text</th>\n",
       "    </tr>\n",
       "  </thead>\n",
       "  <tbody>\n",
       "    <tr>\n",
       "      <th>0</th>\n",
       "      <td>1</td>\n",
       "      <td>14299</td>\n",
       "      <td>Creamy White Chili</td>\n",
       "      <td>sp_aUSaElGf_14299_c_2G3aneMRgRMZwXqIHmSdXSG1hEM</td>\n",
       "      <td>u_9iFLIhMa8QaG</td>\n",
       "      <td>Jeri326</td>\n",
       "      <td>1</td>\n",
       "      <td>1665619889</td>\n",
       "      <td>0</td>\n",
       "      <td>0</td>\n",
       "      <td>0</td>\n",
       "      <td>5</td>\n",
       "      <td>527</td>\n",
       "      <td>I tweaked it a little, removed onions because ...</td>\n",
       "    </tr>\n",
       "    <tr>\n",
       "      <th>1</th>\n",
       "      <td>1</td>\n",
       "      <td>14299</td>\n",
       "      <td>Creamy White Chili</td>\n",
       "      <td>sp_aUSaElGf_14299_c_2FsPC83HtzCsQAtOxlbL6RcaPbY</td>\n",
       "      <td>u_Lu6p25tmE77j</td>\n",
       "      <td>Mark467</td>\n",
       "      <td>50</td>\n",
       "      <td>1665277687</td>\n",
       "      <td>0</td>\n",
       "      <td>7</td>\n",
       "      <td>0</td>\n",
       "      <td>5</td>\n",
       "      <td>724</td>\n",
       "      <td>Bush used to have a white chili bean and it ma...</td>\n",
       "    </tr>\n",
       "    <tr>\n",
       "      <th>2</th>\n",
       "      <td>1</td>\n",
       "      <td>14299</td>\n",
       "      <td>Creamy White Chili</td>\n",
       "      <td>sp_aUSaElGf_14299_c_2FPrSGyTv7PQkZq37j92r9mYGkP</td>\n",
       "      <td>u_s0LwgpZ8Jsqq</td>\n",
       "      <td>Barbara566</td>\n",
       "      <td>10</td>\n",
       "      <td>1664404557</td>\n",
       "      <td>0</td>\n",
       "      <td>3</td>\n",
       "      <td>0</td>\n",
       "      <td>5</td>\n",
       "      <td>710</td>\n",
       "      <td>I have a very complicated white chicken chili ...</td>\n",
       "    </tr>\n",
       "    <tr>\n",
       "      <th>3</th>\n",
       "      <td>1</td>\n",
       "      <td>14299</td>\n",
       "      <td>Creamy White Chili</td>\n",
       "      <td>sp_aUSaElGf_14299_c_2DzdSIgV9qNiuBaLoZ7JQaartoC</td>\n",
       "      <td>u_fqrybAdYjgjG</td>\n",
       "      <td>jeansch123</td>\n",
       "      <td>1</td>\n",
       "      <td>1661787808</td>\n",
       "      <td>2</td>\n",
       "      <td>2</td>\n",
       "      <td>0</td>\n",
       "      <td>0</td>\n",
       "      <td>581</td>\n",
       "      <td>In your introduction, you mentioned cream chee...</td>\n",
       "    </tr>\n",
       "    <tr>\n",
       "      <th>4</th>\n",
       "      <td>1</td>\n",
       "      <td>14299</td>\n",
       "      <td>Creamy White Chili</td>\n",
       "      <td>sp_aUSaElGf_14299_c_2DtZJuRQYeTFwXBoZRfRhBPEXjI</td>\n",
       "      <td>u_XXWKwVhKZD69</td>\n",
       "      <td>camper77</td>\n",
       "      <td>10</td>\n",
       "      <td>1664913823</td>\n",
       "      <td>1</td>\n",
       "      <td>7</td>\n",
       "      <td>0</td>\n",
       "      <td>0</td>\n",
       "      <td>820</td>\n",
       "      <td>Wonderful! I made this for a &amp;#34;Chili/Stew&amp;#...</td>\n",
       "    </tr>\n",
       "  </tbody>\n",
       "</table>\n",
       "</div>"
      ],
      "text/plain": [
       "   recipe_number  recipe_code         recipe_name  \\\n",
       "0              1        14299  Creamy White Chili   \n",
       "1              1        14299  Creamy White Chili   \n",
       "2              1        14299  Creamy White Chili   \n",
       "3              1        14299  Creamy White Chili   \n",
       "4              1        14299  Creamy White Chili   \n",
       "\n",
       "                                        comment_id         user_id  \\\n",
       "0  sp_aUSaElGf_14299_c_2G3aneMRgRMZwXqIHmSdXSG1hEM  u_9iFLIhMa8QaG   \n",
       "1  sp_aUSaElGf_14299_c_2FsPC83HtzCsQAtOxlbL6RcaPbY  u_Lu6p25tmE77j   \n",
       "2  sp_aUSaElGf_14299_c_2FPrSGyTv7PQkZq37j92r9mYGkP  u_s0LwgpZ8Jsqq   \n",
       "3  sp_aUSaElGf_14299_c_2DzdSIgV9qNiuBaLoZ7JQaartoC  u_fqrybAdYjgjG   \n",
       "4  sp_aUSaElGf_14299_c_2DtZJuRQYeTFwXBoZRfRhBPEXjI  u_XXWKwVhKZD69   \n",
       "\n",
       "    user_name  user_reputation  created_at  reply_count  thumbs_up  \\\n",
       "0     Jeri326                1  1665619889            0          0   \n",
       "1     Mark467               50  1665277687            0          7   \n",
       "2  Barbara566               10  1664404557            0          3   \n",
       "3  jeansch123                1  1661787808            2          2   \n",
       "4    camper77               10  1664913823            1          7   \n",
       "\n",
       "   thumbs_down  stars  best_score  \\\n",
       "0            0      5         527   \n",
       "1            0      5         724   \n",
       "2            0      5         710   \n",
       "3            0      0         581   \n",
       "4            0      0         820   \n",
       "\n",
       "                                                text  \n",
       "0  I tweaked it a little, removed onions because ...  \n",
       "1  Bush used to have a white chili bean and it ma...  \n",
       "2  I have a very complicated white chicken chili ...  \n",
       "3  In your introduction, you mentioned cream chee...  \n",
       "4  Wonderful! I made this for a &#34;Chili/Stew&#...  "
      ]
     },
     "execution_count": 7,
     "metadata": {},
     "output_type": "execute_result"
    }
   ],
   "source": [
    "reviews_df.head()\n"
   ]
  },
  {
   "cell_type": "code",
   "execution_count": 8,
   "metadata": {},
   "outputs": [
    {
     "data": {
      "text/html": [
       "<div>\n",
       "<style scoped>\n",
       "    .dataframe tbody tr th:only-of-type {\n",
       "        vertical-align: middle;\n",
       "    }\n",
       "\n",
       "    .dataframe tbody tr th {\n",
       "        vertical-align: top;\n",
       "    }\n",
       "\n",
       "    .dataframe thead th {\n",
       "        text-align: right;\n",
       "    }\n",
       "</style>\n",
       "<table border=\"1\" class=\"dataframe\">\n",
       "  <thead>\n",
       "    <tr style=\"text-align: right;\">\n",
       "      <th></th>\n",
       "      <th>recipe_code</th>\n",
       "      <th>recipe_name</th>\n",
       "      <th>ingredients</th>\n",
       "      <th>cooking_instructions</th>\n",
       "    </tr>\n",
       "  </thead>\n",
       "  <tbody>\n",
       "    <tr>\n",
       "      <th>0</th>\n",
       "      <td>14299</td>\n",
       "      <td>Creamy White Chili</td>\n",
       "      <td>1 lb chicken breast, diced\\n1 onion, chopped\\n...</td>\n",
       "      <td>1. In a large pot, cook diced chicken breast u...</td>\n",
       "    </tr>\n",
       "    <tr>\n",
       "      <th>1</th>\n",
       "      <td>3309</td>\n",
       "      <td>Best Ever Banana Bread</td>\n",
       "      <td>2-3 ripe bananas, mashed\\n1/3 cup melted butte...</td>\n",
       "      <td>1. Preheat oven to 350°F (175°C). Grease a 9x5...</td>\n",
       "    </tr>\n",
       "    <tr>\n",
       "      <th>2</th>\n",
       "      <td>2832</td>\n",
       "      <td>Cheeseburger Soup</td>\n",
       "      <td>1 lb ground beef\\n1 onion, chopped\\n2 cloves g...</td>\n",
       "      <td>1. In a large pot, brown ground beef over medi...</td>\n",
       "    </tr>\n",
       "    <tr>\n",
       "      <th>3</th>\n",
       "      <td>17826</td>\n",
       "      <td>Amish Breakfast Casserole</td>\n",
       "      <td>6 slices bread, cubed\\n1 lb bulk pork sausage,...</td>\n",
       "      <td>1. Preheat oven to 350°F (175°C). Grease a 9x1...</td>\n",
       "    </tr>\n",
       "    <tr>\n",
       "      <th>4</th>\n",
       "      <td>42386</td>\n",
       "      <td>Pumpkin Spice Cupcakes with Cream Cheese Frosting</td>\n",
       "      <td>For the cupcakes:\\n1 1/2 cups all-purpose flou...</td>\n",
       "      <td>For the cupcakes:\\n1. Preheat oven to 350°F (1...</td>\n",
       "    </tr>\n",
       "  </tbody>\n",
       "</table>\n",
       "</div>"
      ],
      "text/plain": [
       "   recipe_code                                        recipe_name  \\\n",
       "0        14299                                 Creamy White Chili   \n",
       "1         3309                             Best Ever Banana Bread   \n",
       "2         2832                                  Cheeseburger Soup   \n",
       "3        17826                          Amish Breakfast Casserole   \n",
       "4        42386  Pumpkin Spice Cupcakes with Cream Cheese Frosting   \n",
       "\n",
       "                                         ingredients  \\\n",
       "0  1 lb chicken breast, diced\\n1 onion, chopped\\n...   \n",
       "1  2-3 ripe bananas, mashed\\n1/3 cup melted butte...   \n",
       "2  1 lb ground beef\\n1 onion, chopped\\n2 cloves g...   \n",
       "3  6 slices bread, cubed\\n1 lb bulk pork sausage,...   \n",
       "4  For the cupcakes:\\n1 1/2 cups all-purpose flou...   \n",
       "\n",
       "                                cooking_instructions  \n",
       "0  1. In a large pot, cook diced chicken breast u...  \n",
       "1  1. Preheat oven to 350°F (175°C). Grease a 9x5...  \n",
       "2  1. In a large pot, brown ground beef over medi...  \n",
       "3  1. Preheat oven to 350°F (175°C). Grease a 9x1...  \n",
       "4  For the cupcakes:\\n1. Preheat oven to 350°F (1...  "
      ]
     },
     "execution_count": 8,
     "metadata": {},
     "output_type": "execute_result"
    }
   ],
   "source": [
    "recipes_df.head()"
   ]
  },
  {
   "cell_type": "markdown",
   "metadata": {},
   "source": [
    "#### 1.1 Reviews dataset"
   ]
  },
  {
   "cell_type": "code",
   "execution_count": 9,
   "metadata": {},
   "outputs": [
    {
     "name": "stdout",
     "output_type": "stream",
     "text": [
      "<class 'pandas.core.frame.DataFrame'>\n",
      "Int64Index: 18182 entries, 0 to 118\n",
      "Data columns (total 14 columns):\n",
      " #   Column           Non-Null Count  Dtype \n",
      "---  ------           --------------  ----- \n",
      " 0   recipe_number    18182 non-null  int64 \n",
      " 1   recipe_code      18182 non-null  int64 \n",
      " 2   recipe_name      18182 non-null  object\n",
      " 3   comment_id       18182 non-null  object\n",
      " 4   user_id          18182 non-null  object\n",
      " 5   user_name        18182 non-null  object\n",
      " 6   user_reputation  18182 non-null  int64 \n",
      " 7   created_at       18182 non-null  int64 \n",
      " 8   reply_count      18182 non-null  int64 \n",
      " 9   thumbs_up        18182 non-null  int64 \n",
      " 10  thumbs_down      18182 non-null  int64 \n",
      " 11  stars            18182 non-null  int64 \n",
      " 12  best_score       18182 non-null  int64 \n",
      " 13  text             18180 non-null  object\n",
      "dtypes: int64(9), object(5)\n",
      "memory usage: 2.1+ MB\n"
     ]
    }
   ],
   "source": [
    "#let's first work with the reviews dataset\n",
    "reviews_df.info()"
   ]
  },
  {
   "cell_type": "markdown",
   "metadata": {},
   "source": [
    "It is already clear that the text column has two missing values in two of the rows"
   ]
  },
  {
   "cell_type": "code",
   "execution_count": 10,
   "metadata": {},
   "outputs": [
    {
     "name": "stdout",
     "output_type": "stream",
     "text": [
      "(18182, 14)\n"
     ]
    }
   ],
   "source": [
    "print(reviews_df.shape)"
   ]
  },
  {
   "cell_type": "code",
   "execution_count": 11,
   "metadata": {},
   "outputs": [
    {
     "data": {
      "text/plain": [
       "recipe_number      0\n",
       "recipe_code        0\n",
       "recipe_name        0\n",
       "comment_id         0\n",
       "user_id            0\n",
       "user_name          0\n",
       "user_reputation    0\n",
       "created_at         0\n",
       "reply_count        0\n",
       "thumbs_up          0\n",
       "thumbs_down        0\n",
       "stars              0\n",
       "best_score         0\n",
       "text               2\n",
       "dtype: int64"
      ]
     },
     "execution_count": 11,
     "metadata": {},
     "output_type": "execute_result"
    }
   ],
   "source": [
    "#Let's double check on missing values and just drop since they are only 2 out of 18182 entries\n",
    "reviews_df.isnull().sum()"
   ]
  },
  {
   "cell_type": "code",
   "execution_count": 12,
   "metadata": {},
   "outputs": [
    {
     "data": {
      "text/plain": [
       "0"
      ]
     },
     "execution_count": 12,
     "metadata": {},
     "output_type": "execute_result"
    }
   ],
   "source": [
    "reviews_df.duplicated().sum()"
   ]
  },
  {
   "cell_type": "markdown",
   "metadata": {},
   "source": [
    "#### 1.11 To check for completeness and consistency on reviews dataset\n",
    "We come up with a function that we can use for both the datasets to check for the above two through checking for missing values and duplicates if any"
   ]
  },
  {
   "cell_type": "code",
   "execution_count": 13,
   "metadata": {},
   "outputs": [],
   "source": [
    "\n",
    "\n",
    "class DataCleaner:\n",
    "    def __init__(self, df):\n",
    "        \"\"\"\n",
    "        Initializing the DataCleaner with a DataFrame.\n",
    "        \n",
    "        Parameters:\n",
    "        - df (pd.DataFrame): The DataFrame to clean.\n",
    "        \"\"\"\n",
    "        self.df = df\n",
    "\n",
    "    def drop_missing_values(self, how='any', subset=None):\n",
    "        \"\"\"\n",
    "        Drops rows with missing values from the DataFrame.\n",
    "        \n",
    "        - how (str): Determines if a row is dropped when there are missing values:\n",
    "            - 'any' (default): Drop rows if any NA values are present.\n",
    "            - 'all': Drop rows if all values are NA.\n",
    "        - subset (list): List of column names to consider. If None, apply to all columns.\n",
    "        \"\"\"\n",
    "        self.df = self.df.dropna(how=how, subset=subset)\n",
    "\n",
    "    def remove_duplicates(self, subset=None):\n",
    "        \"\"\"\n",
    "        This is to remove duplicate rows from the DataFrame.\n",
    "        \n",
    "        - subset (list): List of column names to consider for duplicates. If None, consider all columns.\n",
    "        \"\"\"\n",
    "        self.df = self.df.drop_duplicates(subset=subset)\n",
    "    \n",
    "    def clean_brackets(self, column_name):\n",
    "        \"\"\"\n",
    "        Removes only the brackets from string representations of lists in a column.\n",
    "        \n",
    "        - column_name (str): The name of the column to clean.\n",
    "        \"\"\"\n",
    "        # Remove only the square brackets and the quotes, keeping the content intact\n",
    "        self.df[column_name] = self.df[column_name].apply(lambda x: re.sub(r\"^\\[|\\]$\", \"\", str(x)).replace(\"'\", \"\"))\n",
    "    \n",
    "    def remove_whitespace_rows(self, column_name):\n",
    "        \"\"\"\n",
    "        Removes rows where the specified column contains only whitespace or is empty.\n",
    "        \n",
    "        - column_name (str): The name of the column to clean.\n",
    "        \"\"\"\n",
    "        # Remove rows where the column has only whitespace or is empty\n",
    "        self.df = self.df[~self.df[column_name].apply(lambda x: isinstance(x, str) and x.strip() == '')]\n",
    "\n",
    "    def clean_data(self, dropna_how='any', dropna_subset=None, remove_duplicates=True, dup_subset=None, clean_brackets_column=None, remove_whitespace_column=None):\n",
    "        \"\"\"\n",
    "        Performs general data cleaning by dropping missing values, removing duplicates, cleaning brackets, and removing whitespace rows.\n",
    "        \n",
    "        Parameters:\n",
    "        - dropna_how (str): How to drop missing values ('any' or 'all').\n",
    "        - dropna_subset (list): Subset of columns to consider for dropping missing values.\n",
    "        - remove_duplicates (bool): Whether to remove duplicates (default is True).\n",
    "        - dup_subset (list): Subset of columns to consider for duplicate removal.\n",
    "        - clean_brackets_column (str): The name of the column to clean brackets from.\n",
    "        - remove_whitespace_column (str): The name of the column to remove rows with whitespace or empty strings from.\n",
    "        \n",
    "        Returns:\n",
    "        - pd.DataFrame: The cleaned DataFrame.\n",
    "        \"\"\"\n",
    "        self.drop_missing_values(how=dropna_how, subset=dropna_subset)\n",
    "        if remove_duplicates:\n",
    "            self.remove_duplicates(subset=dup_subset)\n",
    "        if clean_brackets_column:\n",
    "            self.clean_brackets(clean_brackets_column)\n",
    "        if remove_whitespace_column:\n",
    "            self.remove_whitespace_rows(remove_whitespace_column)\n",
    "        return self.df\n",
    "\n",
    "      \n"
   ]
  },
  {
   "cell_type": "code",
   "execution_count": 14,
   "metadata": {},
   "outputs": [],
   "source": [
    "cleaned_review = DataCleaner(reviews_df)"
   ]
  },
  {
   "cell_type": "code",
   "execution_count": 15,
   "metadata": {},
   "outputs": [],
   "source": [
    "cleaned_reviews_df = cleaned_review.clean_data(dropna_how='any', remove_duplicates=True)\n"
   ]
  },
  {
   "cell_type": "code",
   "execution_count": 16,
   "metadata": {},
   "outputs": [
    {
     "data": {
      "text/plain": [
       "recipe_number      0\n",
       "recipe_code        0\n",
       "recipe_name        0\n",
       "comment_id         0\n",
       "user_id            0\n",
       "user_name          0\n",
       "user_reputation    0\n",
       "created_at         0\n",
       "reply_count        0\n",
       "thumbs_up          0\n",
       "thumbs_down        0\n",
       "stars              0\n",
       "best_score         0\n",
       "text               0\n",
       "dtype: int64"
      ]
     },
     "execution_count": 16,
     "metadata": {},
     "output_type": "execute_result"
    }
   ],
   "source": [
    "cleaned_reviews_df.isna().sum()"
   ]
  },
  {
   "cell_type": "code",
   "execution_count": 17,
   "metadata": {},
   "outputs": [
    {
     "name": "stdout",
     "output_type": "stream",
     "text": [
      "The cleaned_reviews data has 0 missing values\n"
     ]
    }
   ],
   "source": [
    "print(f'The cleaned_reviews data has {cleaned_reviews_df.isna().sum().sum()} missing values')"
   ]
  },
  {
   "cell_type": "code",
   "execution_count": 18,
   "metadata": {},
   "outputs": [],
   "source": [
    "cleaned_reviews_df = cleaned_reviews_df.drop(columns=[ 'recipe_code', 'comment_id', 'user_id'])"
   ]
  },
  {
   "cell_type": "code",
   "execution_count": 19,
   "metadata": {},
   "outputs": [],
   "source": [
    "# converting 'created_at' to datetime\n",
    "cleaned_reviews_df['created_at'] = pd.to_datetime(cleaned_reviews_df['created_at'], unit='s')\n"
   ]
  },
  {
   "cell_type": "code",
   "execution_count": 20,
   "metadata": {},
   "outputs": [
    {
     "data": {
      "text/html": [
       "<div>\n",
       "<style scoped>\n",
       "    .dataframe tbody tr th:only-of-type {\n",
       "        vertical-align: middle;\n",
       "    }\n",
       "\n",
       "    .dataframe tbody tr th {\n",
       "        vertical-align: top;\n",
       "    }\n",
       "\n",
       "    .dataframe thead th {\n",
       "        text-align: right;\n",
       "    }\n",
       "</style>\n",
       "<table border=\"1\" class=\"dataframe\">\n",
       "  <thead>\n",
       "    <tr style=\"text-align: right;\">\n",
       "      <th></th>\n",
       "      <th>recipe_number</th>\n",
       "      <th>recipe_name</th>\n",
       "      <th>user_name</th>\n",
       "      <th>user_reputation</th>\n",
       "      <th>created_at</th>\n",
       "      <th>reply_count</th>\n",
       "      <th>thumbs_up</th>\n",
       "      <th>thumbs_down</th>\n",
       "      <th>stars</th>\n",
       "      <th>best_score</th>\n",
       "      <th>text</th>\n",
       "    </tr>\n",
       "  </thead>\n",
       "  <tbody>\n",
       "    <tr>\n",
       "      <th>0</th>\n",
       "      <td>1</td>\n",
       "      <td>Creamy White Chili</td>\n",
       "      <td>Jeri326</td>\n",
       "      <td>1</td>\n",
       "      <td>2022-10-13 00:11:29</td>\n",
       "      <td>0</td>\n",
       "      <td>0</td>\n",
       "      <td>0</td>\n",
       "      <td>5</td>\n",
       "      <td>527</td>\n",
       "      <td>I tweaked it a little, removed onions because ...</td>\n",
       "    </tr>\n",
       "    <tr>\n",
       "      <th>1</th>\n",
       "      <td>1</td>\n",
       "      <td>Creamy White Chili</td>\n",
       "      <td>Mark467</td>\n",
       "      <td>50</td>\n",
       "      <td>2022-10-09 01:08:07</td>\n",
       "      <td>0</td>\n",
       "      <td>7</td>\n",
       "      <td>0</td>\n",
       "      <td>5</td>\n",
       "      <td>724</td>\n",
       "      <td>Bush used to have a white chili bean and it ma...</td>\n",
       "    </tr>\n",
       "    <tr>\n",
       "      <th>2</th>\n",
       "      <td>1</td>\n",
       "      <td>Creamy White Chili</td>\n",
       "      <td>Barbara566</td>\n",
       "      <td>10</td>\n",
       "      <td>2022-09-28 22:35:57</td>\n",
       "      <td>0</td>\n",
       "      <td>3</td>\n",
       "      <td>0</td>\n",
       "      <td>5</td>\n",
       "      <td>710</td>\n",
       "      <td>I have a very complicated white chicken chili ...</td>\n",
       "    </tr>\n",
       "    <tr>\n",
       "      <th>3</th>\n",
       "      <td>1</td>\n",
       "      <td>Creamy White Chili</td>\n",
       "      <td>jeansch123</td>\n",
       "      <td>1</td>\n",
       "      <td>2022-08-29 15:43:28</td>\n",
       "      <td>2</td>\n",
       "      <td>2</td>\n",
       "      <td>0</td>\n",
       "      <td>0</td>\n",
       "      <td>581</td>\n",
       "      <td>In your introduction, you mentioned cream chee...</td>\n",
       "    </tr>\n",
       "    <tr>\n",
       "      <th>4</th>\n",
       "      <td>1</td>\n",
       "      <td>Creamy White Chili</td>\n",
       "      <td>camper77</td>\n",
       "      <td>10</td>\n",
       "      <td>2022-10-04 20:03:43</td>\n",
       "      <td>1</td>\n",
       "      <td>7</td>\n",
       "      <td>0</td>\n",
       "      <td>0</td>\n",
       "      <td>820</td>\n",
       "      <td>Wonderful! I made this for a &amp;#34;Chili/Stew&amp;#...</td>\n",
       "    </tr>\n",
       "  </tbody>\n",
       "</table>\n",
       "</div>"
      ],
      "text/plain": [
       "   recipe_number         recipe_name   user_name  user_reputation  \\\n",
       "0              1  Creamy White Chili     Jeri326                1   \n",
       "1              1  Creamy White Chili     Mark467               50   \n",
       "2              1  Creamy White Chili  Barbara566               10   \n",
       "3              1  Creamy White Chili  jeansch123                1   \n",
       "4              1  Creamy White Chili    camper77               10   \n",
       "\n",
       "           created_at  reply_count  thumbs_up  thumbs_down  stars  best_score  \\\n",
       "0 2022-10-13 00:11:29            0          0            0      5         527   \n",
       "1 2022-10-09 01:08:07            0          7            0      5         724   \n",
       "2 2022-09-28 22:35:57            0          3            0      5         710   \n",
       "3 2022-08-29 15:43:28            2          2            0      0         581   \n",
       "4 2022-10-04 20:03:43            1          7            0      0         820   \n",
       "\n",
       "                                                text  \n",
       "0  I tweaked it a little, removed onions because ...  \n",
       "1  Bush used to have a white chili bean and it ma...  \n",
       "2  I have a very complicated white chicken chili ...  \n",
       "3  In your introduction, you mentioned cream chee...  \n",
       "4  Wonderful! I made this for a &#34;Chili/Stew&#...  "
      ]
     },
     "execution_count": 20,
     "metadata": {},
     "output_type": "execute_result"
    }
   ],
   "source": [
    "cleaned_reviews_df.head()"
   ]
  },
  {
   "cell_type": "markdown",
   "metadata": {},
   "source": [
    "#### 1.2 Second dataset Recipes dataset (checking for completeness)"
   ]
  },
  {
   "cell_type": "code",
   "execution_count": 21,
   "metadata": {},
   "outputs": [
    {
     "data": {
      "text/plain": [
       "recipe_code             0\n",
       "recipe_name             0\n",
       "ingredients             0\n",
       "cooking_instructions    0\n",
       "dtype: int64"
      ]
     },
     "execution_count": 21,
     "metadata": {},
     "output_type": "execute_result"
    }
   ],
   "source": [
    "#let's work on the second dataset the recipes dataframe\n",
    "recipes_df.isnull().sum()"
   ]
  },
  {
   "cell_type": "code",
   "execution_count": 22,
   "metadata": {},
   "outputs": [
    {
     "data": {
      "text/plain": [
       "0"
      ]
     },
     "execution_count": 22,
     "metadata": {},
     "output_type": "execute_result"
    }
   ],
   "source": [
    "recipes_df.duplicated().sum()"
   ]
  },
  {
   "cell_type": "code",
   "execution_count": 23,
   "metadata": {},
   "outputs": [
    {
     "name": "stdout",
     "output_type": "stream",
     "text": [
      "The recipes data has 0 missing values\n"
     ]
    }
   ],
   "source": [
    "print(f'The recipes data has {recipes_df.isna().sum().sum()} missing values')"
   ]
  },
  {
   "cell_type": "code",
   "execution_count": 24,
   "metadata": {},
   "outputs": [],
   "source": [
    "recipes_df = recipes_df.drop(columns=['recipe_code'])"
   ]
  },
  {
   "cell_type": "code",
   "execution_count": 25,
   "metadata": {},
   "outputs": [
    {
     "data": {
      "text/html": [
       "<div>\n",
       "<style scoped>\n",
       "    .dataframe tbody tr th:only-of-type {\n",
       "        vertical-align: middle;\n",
       "    }\n",
       "\n",
       "    .dataframe tbody tr th {\n",
       "        vertical-align: top;\n",
       "    }\n",
       "\n",
       "    .dataframe thead th {\n",
       "        text-align: right;\n",
       "    }\n",
       "</style>\n",
       "<table border=\"1\" class=\"dataframe\">\n",
       "  <thead>\n",
       "    <tr style=\"text-align: right;\">\n",
       "      <th></th>\n",
       "      <th>recipe_name</th>\n",
       "      <th>ingredients</th>\n",
       "      <th>cooking_instructions</th>\n",
       "    </tr>\n",
       "  </thead>\n",
       "  <tbody>\n",
       "    <tr>\n",
       "      <th>0</th>\n",
       "      <td>Creamy White Chili</td>\n",
       "      <td>1 lb chicken breast, diced\\n1 onion, chopped\\n...</td>\n",
       "      <td>1. In a large pot, cook diced chicken breast u...</td>\n",
       "    </tr>\n",
       "    <tr>\n",
       "      <th>1</th>\n",
       "      <td>Best Ever Banana Bread</td>\n",
       "      <td>2-3 ripe bananas, mashed\\n1/3 cup melted butte...</td>\n",
       "      <td>1. Preheat oven to 350°F (175°C). Grease a 9x5...</td>\n",
       "    </tr>\n",
       "    <tr>\n",
       "      <th>2</th>\n",
       "      <td>Cheeseburger Soup</td>\n",
       "      <td>1 lb ground beef\\n1 onion, chopped\\n2 cloves g...</td>\n",
       "      <td>1. In a large pot, brown ground beef over medi...</td>\n",
       "    </tr>\n",
       "    <tr>\n",
       "      <th>3</th>\n",
       "      <td>Amish Breakfast Casserole</td>\n",
       "      <td>6 slices bread, cubed\\n1 lb bulk pork sausage,...</td>\n",
       "      <td>1. Preheat oven to 350°F (175°C). Grease a 9x1...</td>\n",
       "    </tr>\n",
       "    <tr>\n",
       "      <th>4</th>\n",
       "      <td>Pumpkin Spice Cupcakes with Cream Cheese Frosting</td>\n",
       "      <td>For the cupcakes:\\n1 1/2 cups all-purpose flou...</td>\n",
       "      <td>For the cupcakes:\\n1. Preheat oven to 350°F (1...</td>\n",
       "    </tr>\n",
       "  </tbody>\n",
       "</table>\n",
       "</div>"
      ],
      "text/plain": [
       "                                         recipe_name  \\\n",
       "0                                 Creamy White Chili   \n",
       "1                             Best Ever Banana Bread   \n",
       "2                                  Cheeseburger Soup   \n",
       "3                          Amish Breakfast Casserole   \n",
       "4  Pumpkin Spice Cupcakes with Cream Cheese Frosting   \n",
       "\n",
       "                                         ingredients  \\\n",
       "0  1 lb chicken breast, diced\\n1 onion, chopped\\n...   \n",
       "1  2-3 ripe bananas, mashed\\n1/3 cup melted butte...   \n",
       "2  1 lb ground beef\\n1 onion, chopped\\n2 cloves g...   \n",
       "3  6 slices bread, cubed\\n1 lb bulk pork sausage,...   \n",
       "4  For the cupcakes:\\n1 1/2 cups all-purpose flou...   \n",
       "\n",
       "                                cooking_instructions  \n",
       "0  1. In a large pot, cook diced chicken breast u...  \n",
       "1  1. Preheat oven to 350°F (175°C). Grease a 9x5...  \n",
       "2  1. In a large pot, brown ground beef over medi...  \n",
       "3  1. Preheat oven to 350°F (175°C). Grease a 9x1...  \n",
       "4  For the cupcakes:\\n1. Preheat oven to 350°F (1...  "
      ]
     },
     "execution_count": 25,
     "metadata": {},
     "output_type": "execute_result"
    }
   ],
   "source": [
    "recipes_df.head()"
   ]
  },
  {
   "cell_type": "code",
   "execution_count": 26,
   "metadata": {},
   "outputs": [
    {
     "data": {
      "text/plain": [
       "(100, 3)"
      ]
     },
     "execution_count": 26,
     "metadata": {},
     "output_type": "execute_result"
    }
   ],
   "source": [
    "recipes_df.shape"
   ]
  },
  {
   "cell_type": "markdown",
   "metadata": {},
   "source": [
    "#### 1.21 Check for uniformity"
   ]
  },
  {
   "cell_type": "code",
   "execution_count": 27,
   "metadata": {},
   "outputs": [
    {
     "data": {
      "text/plain": [
       "recipe_number               int64\n",
       "recipe_name                object\n",
       "user_name                  object\n",
       "user_reputation             int64\n",
       "created_at         datetime64[ns]\n",
       "reply_count                 int64\n",
       "thumbs_up                   int64\n",
       "thumbs_down                 int64\n",
       "stars                       int64\n",
       "best_score                  int64\n",
       "text                       object\n",
       "dtype: object"
      ]
     },
     "execution_count": 27,
     "metadata": {},
     "output_type": "execute_result"
    }
   ],
   "source": [
    "cleaned_reviews_df.dtypes\n"
   ]
  },
  {
   "cell_type": "code",
   "execution_count": 28,
   "metadata": {},
   "outputs": [
    {
     "data": {
      "text/plain": [
       "recipe_name             object\n",
       "ingredients             object\n",
       "cooking_instructions    object\n",
       "dtype: object"
      ]
     },
     "execution_count": 28,
     "metadata": {},
     "output_type": "execute_result"
    }
   ],
   "source": [
    "recipes_df.dtypes"
   ]
  },
  {
   "cell_type": "code",
   "execution_count": 29,
   "metadata": {},
   "outputs": [
    {
     "name": "stdout",
     "output_type": "stream",
     "text": [
      "The second dataset seems to have 0 missing values and 0 duplicates we will use this later for feature engineering\n"
     ]
    }
   ],
   "source": [
    "print(f'The second dataset seems to have {recipes_df.isnull().sum().sum()} missing values and {recipes_df.duplicated().sum().sum()} duplicates we will use this later for feature engineering')"
   ]
  },
  {
   "cell_type": "code",
   "execution_count": null,
   "metadata": {},
   "outputs": [],
   "source": []
  },
  {
   "cell_type": "code",
   "execution_count": null,
   "metadata": {},
   "outputs": [],
   "source": []
  },
  {
   "cell_type": "code",
   "execution_count": null,
   "metadata": {},
   "outputs": [],
   "source": []
  },
  {
   "cell_type": "code",
   "execution_count": null,
   "metadata": {},
   "outputs": [],
   "source": []
  },
  {
   "cell_type": "code",
   "execution_count": null,
   "metadata": {},
   "outputs": [],
   "source": []
  },
  {
   "cell_type": "code",
   "execution_count": null,
   "metadata": {},
   "outputs": [],
   "source": []
  },
  {
   "cell_type": "code",
   "execution_count": null,
   "metadata": {},
   "outputs": [],
   "source": []
  },
  {
   "cell_type": "code",
   "execution_count": null,
   "metadata": {},
   "outputs": [],
   "source": []
  },
  {
   "cell_type": "code",
   "execution_count": null,
   "metadata": {},
   "outputs": [],
   "source": []
  },
  {
   "cell_type": "code",
   "execution_count": null,
   "metadata": {},
   "outputs": [],
   "source": []
  },
  {
   "cell_type": "code",
   "execution_count": null,
   "metadata": {},
   "outputs": [],
   "source": []
  },
  {
   "cell_type": "code",
   "execution_count": null,
   "metadata": {},
   "outputs": [],
   "source": []
  },
  {
   "cell_type": "code",
   "execution_count": null,
   "metadata": {},
   "outputs": [],
   "source": []
  },
  {
   "cell_type": "code",
   "execution_count": null,
   "metadata": {},
   "outputs": [],
   "source": []
  },
  {
   "cell_type": "code",
   "execution_count": null,
   "metadata": {},
   "outputs": [],
   "source": []
  }
 ],
 "metadata": {
  "kernelspec": {
   "display_name": "learn-env",
   "language": "python",
   "name": "python3"
  },
  "language_info": {
   "codemirror_mode": {
    "name": "ipython",
    "version": 3
   },
   "file_extension": ".py",
   "mimetype": "text/x-python",
   "name": "python",
   "nbconvert_exporter": "python",
   "pygments_lexer": "ipython3",
   "version": "3.8.5"
  }
 },
 "nbformat": 4,
 "nbformat_minor": 2
}
